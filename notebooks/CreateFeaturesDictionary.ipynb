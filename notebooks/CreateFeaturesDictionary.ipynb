{
 "cells": [
  {
   "cell_type": "markdown",
   "metadata": {},
   "source": [
    "# Use the Feature Extractor to Create a Pickled Dictionary\n",
    "\n",
    "Here we create a dictionary of features indexed by object ID.\n",
    "\n",
    "```\n",
    "features = {\n",
    "    objectID: feature_vector,\n",
    "    objectID2: feature_vector,\n",
    "    etc.\n",
    "}\n",
    "```"
   ]
  },
  {
   "cell_type": "code",
   "execution_count": null,
   "metadata": {},
   "outputs": [],
   "source": [
    "import sys\n",
    "sys.path.append(\"../main/\")"
   ]
  },
  {
   "cell_type": "code",
   "execution_count": null,
   "metadata": {},
   "outputs": [],
   "source": [
    "from feature_extractor import FeatureExtractor\n",
    "%load_ext autoreload\n",
    "%autoreload 2\n",
    "\n",
    "IMAGE_FOLDER_PATH = \"../data/images\"\n",
    "model = FeatureExtractor(IMAGE_FOLDER_PATH)"
   ]
  },
  {
   "cell_type": "markdown",
   "metadata": {},
   "source": [
    "- create the dictionary"
   ]
  },
  {
   "cell_type": "code",
   "execution_count": null,
   "metadata": {},
   "outputs": [],
   "source": [
    "features_dict = {}\n",
    "\n",
    "objectids = model.get_valid_objectids()\n",
    "\n",
    "print(\"last objectid is {}\".format(objectids[-1]))\n",
    "\n",
    "for objectid in objectids:\n",
    "    features = model(34)[0].detach().numpy()\n",
    "    \n",
    "    features_dict[objectid] = features\n",
    "    \n",
    "    print(\"saved {}\".format(objectid))\n",
    "    break"
   ]
  },
  {
   "cell_type": "markdown",
   "metadata": {},
   "source": [
    "- save the dictionary to a pickle file"
   ]
  },
  {
   "cell_type": "code",
   "execution_count": null,
   "metadata": {},
   "outputs": [],
   "source": [
    "import pickle\n",
    "import datetime\n",
    "\n",
    "timestamp = str(datetime.datetime.now()).replace(\" \", \"_\")\n",
    "filename = '../data/features_dict_{}.pickle'.format(timestamp)\n",
    "print(\"saving {}\".format(filename))\n",
    "with open(filename, 'wb') as handle:\n",
    "    pickle.dump(features_dict, handle)"
   ]
  },
  {
   "cell_type": "code",
   "execution_count": null,
   "metadata": {},
   "outputs": [],
   "source": []
  }
 ],
 "metadata": {
  "kernelspec": {
   "display_name": "arart",
   "language": "python",
   "name": "arart"
  },
  "language_info": {
   "codemirror_mode": {
    "name": "ipython",
    "version": 3
   },
   "file_extension": ".py",
   "mimetype": "text/x-python",
   "name": "python",
   "nbconvert_exporter": "python",
   "pygments_lexer": "ipython3",
   "version": "3.7.1"
  }
 },
 "nbformat": 4,
 "nbformat_minor": 2
}
