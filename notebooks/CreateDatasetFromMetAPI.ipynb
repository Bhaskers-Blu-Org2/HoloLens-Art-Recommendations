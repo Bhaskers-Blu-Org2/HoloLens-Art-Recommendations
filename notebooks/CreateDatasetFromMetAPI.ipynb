{
 "cells": [
  {
   "cell_type": "markdown",
   "metadata": {},
   "source": [
    "# Getting data from the API documented at https://metmuseum.github.io/"
   ]
  },
  {
   "cell_type": "code",
   "execution_count": null,
   "metadata": {},
   "outputs": [],
   "source": [
    "import numpy as np\n",
    "import cv2\n",
    "import requests\n",
    "import csv\n",
    "import os"
   ]
  },
  {
   "cell_type": "markdown",
   "metadata": {},
   "source": [
    "## Get the object IDs"
   ]
  },
  {
   "cell_type": "code",
   "execution_count": null,
   "metadata": {},
   "outputs": [],
   "source": [
    "r = requests.get(\"https://collectionapi.metmuseum.org/public/collection/v1/objects\")\n",
    "r_json = r.json()\n",
    "total = r_json['total']\n",
    "print(\"There are {} valid objects in this dataset\".format(total))\n",
    "objectIDs = r_json['objectIDs']"
   ]
  },
  {
   "cell_type": "code",
   "execution_count": null,
   "metadata": {},
   "outputs": [],
   "source": [
    "# get the column headers from the first object ID\n",
    "prefix = \"https://collectionapi.metmuseum.org/public/collection/v1/objects/\"\n",
    "url = prefix + str(objectIDs[0])\n",
    "r = requests.get(url)\n",
    "col_headers = r.json().keys()\n",
    "# create the csv file and write the first row\n",
    "filename = '../main/data/metdata.csv'\n",
    "# remove if it already exists\n",
    "try:\n",
    "    os.remove(filename)\n",
    "except OSError:\n",
    "    pass\n"
   ]
  },
  {
   "cell_type": "code",
   "execution_count": null,
   "metadata": {},
   "outputs": [],
   "source": [
    "# iterate through the object ids and write the the file\n",
    "with open(filename, 'w') as csv_file:\n",
    "    csv_writer = csv.writer(csv_file)\n",
    "    csv_writer.writerow(col_headers)\n",
    "    \n",
    "    for index, ID in enumerate(objectIDs):\n",
    "        url = prefix + str(ID)\n",
    "        r = requests.get(url)\n",
    "        values = r.json().values()\n",
    "        csv_writer.writerow(values)\n",
    "        print(index)"
   ]
  }
 ],
 "metadata": {
  "kernelspec": {
   "display_name": "arart",
   "language": "python",
   "name": "arart"
  },
  "language_info": {
   "codemirror_mode": {
    "name": "ipython",
    "version": 3
   },
   "file_extension": ".py",
   "mimetype": "text/x-python",
   "name": "python",
   "nbconvert_exporter": "python",
   "pygments_lexer": "ipython3",
   "version": "3.7.1"
  }
 },
 "nbformat": 4,
 "nbformat_minor": 2
}
