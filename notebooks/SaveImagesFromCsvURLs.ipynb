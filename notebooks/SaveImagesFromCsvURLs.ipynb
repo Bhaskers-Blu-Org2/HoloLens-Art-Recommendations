{
 "cells": [
  {
   "cell_type": "markdown",
   "metadata": {},
   "source": [
    "# save the images from the urls in the csv"
   ]
  },
  {
   "cell_type": "code",
   "execution_count": 3,
   "metadata": {},
   "outputs": [],
   "source": [
    "import pandas as pd\n",
    "import urllib\n",
    "import os"
   ]
  },
  {
   "cell_type": "code",
   "execution_count": 4,
   "metadata": {},
   "outputs": [],
   "source": [
    "# read from the dataset\n",
    "FILENAME = \"../main/data/metdata.csv\"\n",
    "df = pd.read_csv(FILENAME, skipinitialspace=True)\n",
    "\n",
    "# folder to store images\n",
    "IMAGE_FOLDER = \"../main/data/images\""
   ]
  },
  {
   "cell_type": "code",
   "execution_count": null,
   "metadata": {
    "scrolled": true
   },
   "outputs": [],
   "source": [
    "for ID, imgurl in zip(df['objectID'][6500:], df['primaryImage'][6500:]):\n",
    "    if not pd.isna(imgurl):\n",
    "        image_filename = os.path.join(IMAGE_FOLDER, \"{}.jpg\".format(ID))\n",
    "        try:\n",
    "            # have to detail with replacing spaces\n",
    "            resource = urllib.request.urlopen(imgurl.replace(\" \", \"%20\"))\n",
    "            output = open(image_filename, \"wb\")\n",
    "            output.write(resource.read())\n",
    "            output.close()\n",
    "            print(ID)\n",
    "        except:\n",
    "            print(\"{} ID didn't work\".format(ID))\n",
    "            # delete the image if it didn't save properly yet still exists\n",
    "            if os.path.exists(image_filename):\n",
    "                os.remove(image_filename)\n",
    "            else:\n",
    "                print(\"The file does not exist\")"
   ]
  }
 ],
 "metadata": {
  "kernelspec": {
   "display_name": "arart",
   "language": "python",
   "name": "arart"
  },
  "language_info": {
   "codemirror_mode": {
    "name": "ipython",
    "version": 3
   },
   "file_extension": ".py",
   "mimetype": "text/x-python",
   "name": "python",
   "nbconvert_exporter": "python",
   "pygments_lexer": "ipython3",
   "version": "3.7.1"
  }
 },
 "nbformat": 4,
 "nbformat_minor": 2
}
